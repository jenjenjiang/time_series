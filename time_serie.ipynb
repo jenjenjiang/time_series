# use fzes data set and use ARMA method for prediction 
#Autoregressive Moving Average (ARMA)
import pandas as pd
import numpy as np
from statsmodels.tsa.arima_model import ARMA


date_parse = lambda dates: pd.datetime.strptime(dates, '%m-%d-%Y')
df = pd.read_table('https://raw.githubusercontent.com/ffzs/dataset/master/time_series.txt', delimiter='\t', index_col='date', date_parser=date_parse) 
ts_data = df['number'].astype('float')
print(ts_data)

# fit model
model = ARMA(ts_data, order=(2, 1))
model_fit = model.fit(disp=False)
# make prediction
yhat = model_fit.predict(len(ts_data), len(ts_data))
print(yhat)

#use AR 
#AR is better for  univariate
from statsmodels.tsa.ar_model import AR
# fit model
model = AR(ts_data)
model_fit = model.fit()
# make prediction
yhat = model_fit.predict(len(ts_data), len(ts_data))
print(yhat)

# using Moving Average (MA)
from statsmodels.tsa.arima_model import ARMA
# fit model
model = ARMA(ts_data, order=(0, 1))
model_fit = model.fit(disp=False)
# make prediction
yhat2 = model_fit.predict(len(ts_data), len(ts_data))
print(yhat2)
