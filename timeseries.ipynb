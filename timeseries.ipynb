{
 "cells": [
  {
   "cell_type": "code",
   "execution_count": null,
   "metadata": {},
   "outputs": [],
   "source": [
    "#https://machinelearningmastery.com/time-series-forecasting-methods-in-python-cheat-sheet/"
   ]
  },
  {
   "cell_type": "code",
   "execution_count": 3,
   "metadata": {},
   "outputs": [
    {
     "name": "stderr",
     "output_type": "stream",
     "text": [
      "C:\\Users\\jenjen.jiang\\AppData\\Local\\Continuum\\anaconda3\\lib\\site-packages\\ipykernel_launcher.py:8: FutureWarning: read_table is deprecated, use read_csv instead.\n",
      "  \n"
     ]
    },
    {
     "name": "stdout",
     "output_type": "stream",
     "text": [
      "date\n",
      "1991-03-01    281.0\n",
      "1991-03-02    304.0\n",
      "1991-03-03    292.0\n",
      "1991-03-04    360.0\n",
      "1991-03-05    320.0\n",
      "1991-03-06    185.0\n",
      "1991-03-07    300.0\n",
      "1991-03-08    297.0\n",
      "1991-03-09    301.0\n",
      "1991-03-10    199.0\n",
      "1991-03-11    210.0\n",
      "1991-03-12    377.0\n",
      "1991-03-13    361.0\n",
      "1991-03-14    349.0\n",
      "1991-03-15    400.0\n",
      "1991-03-16    175.0\n",
      "1991-03-17    210.0\n",
      "1991-03-18    300.0\n",
      "1991-03-19    160.0\n",
      "1991-03-20    140.0\n",
      "1991-03-21    327.0\n",
      "1991-03-22    166.0\n",
      "1991-03-23    280.0\n",
      "1991-03-24    307.0\n",
      "1991-03-25    189.0\n",
      "1991-03-26    161.0\n",
      "1991-03-27     99.0\n",
      "1991-03-28     80.0\n",
      "1991-03-29     77.0\n",
      "1991-03-30     90.0\n",
      "              ...  \n",
      "1991-06-28     99.0\n",
      "1991-06-29    116.0\n",
      "1991-06-30     96.0\n",
      "1991-07-01     60.0\n",
      "1991-07-02     71.0\n",
      "1991-07-03    112.0\n",
      "1991-07-04    121.0\n",
      "1991-07-05    113.0\n",
      "1991-07-06    140.0\n",
      "1991-07-07     92.0\n",
      "1991-07-08    191.0\n",
      "1991-07-09     99.0\n",
      "1991-07-10    110.0\n",
      "1991-07-11    167.0\n",
      "1991-07-12     90.0\n",
      "1991-07-13     90.0\n",
      "1991-07-14    161.0\n",
      "1991-07-15    196.0\n",
      "1991-07-16    206.0\n",
      "1991-07-17    301.0\n",
      "1991-07-18    199.0\n",
      "1991-07-19    181.0\n",
      "1991-07-20    144.0\n",
      "1991-07-21    171.0\n",
      "1991-07-22     96.0\n",
      "1991-07-23     66.0\n",
      "1991-07-24     47.0\n",
      "1991-07-25    150.0\n",
      "1991-07-26    141.0\n",
      "1991-07-27    201.0\n",
      "Name: number, Length: 149, dtype: float64\n",
      "1991-07-28    172.14673\n",
      "Freq: D, dtype: float64\n"
     ]
    },
    {
     "name": "stderr",
     "output_type": "stream",
     "text": [
      "C:\\Users\\jenjen.jiang\\AppData\\Local\\Continuum\\anaconda3\\lib\\site-packages\\statsmodels\\tsa\\base\\tsa_model.py:165: ValueWarning: No frequency information was provided, so inferred frequency D will be used.\n",
      "  % freq, ValueWarning)\n"
     ]
    }
   ],
   "source": [
    "# use fzes data set and use ARMA method for prediction \n",
    "#Autoregressive Moving Average (ARMA)\n",
    "import pandas as pd\n",
    "import numpy as np\n",
    "from statsmodels.tsa.arima_model import ARMA\n",
    "\n",
    "\n",
    "date_parse = lambda dates: pd.datetime.strptime(dates, '%m-%d-%Y')\n",
    "df = pd.read_table('https://raw.githubusercontent.com/ffzs/dataset/master/time_series.txt', delimiter='\\t', index_col='date', date_parser=date_parse) \n",
    "ts_data = df['number'].astype('float')\n",
    "print(ts_data)\n",
    "\n",
    "# fit model\n",
    "model = ARMA(ts_data, order=(2, 1))\n",
    "model_fit = model.fit(disp=False)\n",
    "# make prediction\n",
    "yhat = model_fit.predict(len(ts_data), len(ts_data))\n",
    "print(yhat)\n",
    "\n"
   ]
  },
  {
   "cell_type": "code",
   "execution_count": 5,
   "metadata": {},
   "outputs": [
    {
     "name": "stdout",
     "output_type": "stream",
     "text": [
      "1991-07-28    191.695944\n",
      "Freq: D, dtype: float64\n"
     ]
    },
    {
     "name": "stderr",
     "output_type": "stream",
     "text": [
      "C:\\Users\\jenjen.jiang\\AppData\\Local\\Continuum\\anaconda3\\lib\\site-packages\\statsmodels\\tsa\\base\\tsa_model.py:165: ValueWarning: No frequency information was provided, so inferred frequency D will be used.\n",
      "  % freq, ValueWarning)\n"
     ]
    }
   ],
   "source": [
    "#use AR \n",
    "#AR is better for  univariate\n",
    "from statsmodels.tsa.ar_model import AR\n",
    "# fit model\n",
    "model = AR(ts_data)\n",
    "model_fit = model.fit()\n",
    "# make prediction\n",
    "yhat = model_fit.predict(len(ts_data), len(ts_data))\n",
    "print(yhat)\n"
   ]
  },
  {
   "cell_type": "code",
   "execution_count": 4,
   "metadata": {},
   "outputs": [
    {
     "name": "stdout",
     "output_type": "stream",
     "text": [
      "1991-07-28    200.585068\n",
      "Freq: D, dtype: float64\n"
     ]
    },
    {
     "name": "stderr",
     "output_type": "stream",
     "text": [
      "C:\\Users\\jenjen.jiang\\AppData\\Local\\Continuum\\anaconda3\\lib\\site-packages\\statsmodels\\tsa\\base\\tsa_model.py:165: ValueWarning: No frequency information was provided, so inferred frequency D will be used.\n",
      "  % freq, ValueWarning)\n"
     ]
    }
   ],
   "source": [
    "# Moving Average (MA)\n",
    "\n",
    "from statsmodels.tsa.arima_model import ARMA\n",
    "# fit model\n",
    "model = ARMA(ts_data, order=(0, 1))\n",
    "model_fit = model.fit(disp=False)\n",
    "# make prediction\n",
    "yhat2 = model_fit.predict(len(ts_data), len(ts_data))\n",
    "print(yhat2)"
   ]
  },
  {
   "cell_type": "code",
   "execution_count": 11,
   "metadata": {},
   "outputs": [
    {
     "name": "stdout",
     "output_type": "stream",
     "text": [
      "                                 Statespace Model Results                                \n",
      "=========================================================================================\n",
      "Dep. Variable:                            number   No. Observations:                  149\n",
      "Model:             SARIMAX(1, 1, 1)x(1, 1, 1, 1)   Log Likelihood                -799.812\n",
      "Date:                           Thu, 22 Aug 2019   AIC                           1609.625\n",
      "Time:                                   15:30:45   BIC                           1624.577\n",
      "Sample:                               03-01-1991   HQIC                          1615.700\n",
      "                                    - 07-27-1991                                         \n",
      "Covariance Type:                             opg                                         \n",
      "==============================================================================\n",
      "                 coef    std err          z      P>|z|      [0.025      0.975]\n",
      "------------------------------------------------------------------------------\n",
      "ar.L1          0.1888      0.052      3.609      0.000       0.086       0.291\n",
      "ma.L1         -0.8923      0.030    -29.860      0.000      -0.951      -0.834\n",
      "ar.S.L1        0.1888      0.052      3.609      0.000       0.086       0.291\n",
      "ma.S.L1       -0.8923      0.030    -29.860      0.000      -0.951      -0.834\n",
      "sigma2      3009.9408    326.815      9.210      0.000    2369.395    3650.486\n",
      "===================================================================================\n",
      "Ljung-Box (Q):                       52.38   Jarque-Bera (JB):                 4.43\n",
      "Prob(Q):                              0.09   Prob(JB):                         0.11\n",
      "Heteroskedasticity (H):               0.45   Skew:                             0.04\n",
      "Prob(H) (two-sided):                  0.01   Kurtosis:                         3.85\n",
      "===================================================================================\n",
      "\n",
      "Warnings:\n",
      "[1] Covariance matrix calculated using the outer product of gradients (complex-step).\n",
      "[2] Covariance matrix is singular or near-singular, with condition number 5.7e+21. Standard errors may be unstable.\n",
      "1991-07-28    172.457275\n",
      "Freq: D, dtype: float64\n"
     ]
    },
    {
     "name": "stderr",
     "output_type": "stream",
     "text": [
      "C:\\Users\\jenjen.jiang\\AppData\\Local\\Continuum\\anaconda3\\lib\\site-packages\\statsmodels\\tsa\\base\\tsa_model.py:165: ValueWarning: No frequency information was provided, so inferred frequency D will be used.\n",
      "  % freq, ValueWarning)\n"
     ]
    }
   ],
   "source": [
    "#SARIMAX\n",
    "\n",
    "from statsmodels.tsa.statespace.sarimax import SARIMAX\n",
    "\n",
    "# fit model\n",
    "model = SARIMAX(ts_data, order=(1, 1, 1), seasonal_order=(1, 1, 1, 1))\n",
    "model_fit = model.fit(disp=False)\n",
    "print(model_fit.summary()) # 模型的各種值#\n",
    "# make prediction\n",
    "yhat3 = model_fit.predict(len(ts_data), len(ts_data))\n",
    "print(yhat3)"
   ]
  },
  {
   "cell_type": "code",
   "execution_count": 16,
   "metadata": {},
   "outputs": [
    {
     "name": "stdout",
     "output_type": "stream",
     "text": [
      "1991-07-28    162.568266\n",
      "Freq: D, dtype: float64\n"
     ]
    },
    {
     "name": "stderr",
     "output_type": "stream",
     "text": [
      "C:\\Users\\jenjen.jiang\\AppData\\Local\\Continuum\\anaconda3\\lib\\site-packages\\statsmodels\\tsa\\base\\tsa_model.py:165: ValueWarning: No frequency information was provided, so inferred frequency D will be used.\n",
      "  % freq, ValueWarning)\n"
     ]
    }
   ],
   "source": [
    "#Simple Exponential Smoothing (SES)\n",
    "from statsmodels.tsa.holtwinters import SimpleExpSmoothing\n",
    "# fit model\n",
    "model = SimpleExpSmoothing(ts_data)\n",
    "model_fit = model.fit()\n",
    "# make prediction\n",
    "yhat = model_fit.predict(len(ts_data), len(ts_data))\n",
    "print(yhat)\n"
   ]
  },
  {
   "cell_type": "code",
   "execution_count": null,
   "metadata": {},
   "outputs": [],
   "source": []
  }
 ],
 "metadata": {
  "kernelspec": {
   "display_name": "Python 3",
   "language": "python",
   "name": "python3"
  },
  "language_info": {
   "codemirror_mode": {
    "name": "ipython",
    "version": 3
   },
   "file_extension": ".py",
   "mimetype": "text/x-python",
   "name": "python",
   "nbconvert_exporter": "python",
   "pygments_lexer": "ipython3",
   "version": "3.7.3"
  }
 },
 "nbformat": 4,
 "nbformat_minor": 2
}
